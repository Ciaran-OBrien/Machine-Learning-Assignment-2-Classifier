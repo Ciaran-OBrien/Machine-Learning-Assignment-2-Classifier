{
 "cells": [
  {
   "cell_type": "markdown",
   "metadata": {},
   "source": [
    "# Implementing Feature Selection\n",
    "\n",
    "* Focus on determining what features contribute the most to the predition value"
   ]
  },
  {
   "cell_type": "code",
   "execution_count": 12,
   "metadata": {
    "collapsed": true
   },
   "outputs": [],
   "source": [
    "import pandas as pd\n",
    "import numpy as np\n",
    "from sklearn.feature_selection import SelectKBest\n",
    "from sklearn.feature_selection import f_classif"
   ]
  },
  {
   "cell_type": "code",
   "execution_count": 23,
   "metadata": {},
   "outputs": [
    {
     "data": {
      "text/plain": [
       "{'divide': 'warn', 'invalid': 'warn', 'over': 'warn', 'under': 'ignore'}"
      ]
     },
     "execution_count": 23,
     "metadata": {},
     "output_type": "execute_result"
    }
   ],
   "source": [
    "np.seterr(divide='ignore', invalid='ignore')"
   ]
  },
  {
   "cell_type": "code",
   "execution_count": 13,
   "metadata": {},
   "outputs": [],
   "source": [
    "x_data = np.load('./data/cleaned_data_np.npy')\n",
    "y_data = pd.read_csv('./data/target_features.csv', header=None)"
   ]
  },
  {
   "cell_type": "code",
   "execution_count": 17,
   "metadata": {},
   "outputs": [
    {
     "name": "stderr",
     "output_type": "stream",
     "text": [
      "/home/dbutler/anaconda3/lib/python3.6/site-packages/sklearn/feature_selection/univariate_selection.py:113: UserWarning: Features [3] are constant.\n",
      "  UserWarning)\n",
      "/home/dbutler/anaconda3/lib/python3.6/site-packages/sklearn/feature_selection/univariate_selection.py:114: RuntimeWarning: invalid value encountered in true_divide\n",
      "  f = msb / msw\n"
     ]
    }
   ],
   "source": [
    "#feature extraction\n",
    "test = SelectKBest(score_func=f_classif, k=4)\n",
    "fit = test.fit(x_data, y_data.values.ravel())"
   ]
  },
  {
   "cell_type": "code",
   "execution_count": 18,
   "metadata": {},
   "outputs": [
    {
     "name": "stdout",
     "output_type": "stream",
     "text": [
      "[  7.722e+00   6.667e+01   3.171e+01         nan   1.338e+02   3.202e+02\n",
      "   3.921e+02   5.874e+00   1.185e+01   2.260e-01   1.579e+02   1.163e+02\n",
      "   7.187e+00   1.007e+02   2.760e+01   2.250e+01   3.992e-02   4.995e-01\n",
      "   3.181e-03   2.951e-01   9.785e+01   1.074e+02   4.430e+01   2.712e+01\n",
      "   1.105e+02   1.576e+00   1.607e+01   1.607e+01   4.531e+02   4.531e+02\n",
      "   1.071e+02   1.071e+02   4.705e+02   3.284e-01   5.391e+02   9.411e+01\n",
      "   2.974e+00   1.592e+02   4.328e+01   5.221e+00   2.571e+01   2.896e+00\n",
      "   4.564e+02   2.450e+02   1.249e+01   3.822e+02   4.010e+02   1.787e+00\n",
      "   3.727e+01   2.739e+03   7.718e+02]\n",
      "[[0 1 0 1]\n",
      " [0 1 0 1]\n",
      " [0 1 0 1]\n",
      " [0 1 0 1]\n",
      " [0 1 0 1]]\n"
     ]
    }
   ],
   "source": [
    "numpy.set_printoptions(precision=3)\n",
    "print(fit.scores_)\n",
    "features = fit.transform(x_data)\n",
    "print(features[0:5, :])"
   ]
  },
  {
   "cell_type": "markdown",
   "metadata": {},
   "source": [
    "## Combining SelectKBest with GridSearch"
   ]
  },
  {
   "cell_type": "code",
   "execution_count": 24,
   "metadata": {},
   "outputs": [
    {
     "name": "stderr",
     "output_type": "stream",
     "text": [
      "/home/dbutler/anaconda3/lib/python3.6/site-packages/sklearn/feature_selection/univariate_selection.py:113: UserWarning: Features [3] are constant.\n",
      "  UserWarning)\n",
      "/home/dbutler/anaconda3/lib/python3.6/site-packages/sklearn/feature_selection/univariate_selection.py:113: UserWarning: Features [3] are constant.\n",
      "  UserWarning)\n",
      "/home/dbutler/anaconda3/lib/python3.6/site-packages/sklearn/feature_selection/univariate_selection.py:113: UserWarning: Features [3] are constant.\n",
      "  UserWarning)\n",
      "/home/dbutler/anaconda3/lib/python3.6/site-packages/sklearn/feature_selection/univariate_selection.py:113: UserWarning: Features [3] are constant.\n",
      "  UserWarning)\n",
      "/home/dbutler/anaconda3/lib/python3.6/site-packages/sklearn/feature_selection/univariate_selection.py:113: UserWarning: Features [3] are constant.\n",
      "  UserWarning)\n",
      "/home/dbutler/anaconda3/lib/python3.6/site-packages/sklearn/feature_selection/univariate_selection.py:113: UserWarning: Features [3] are constant.\n",
      "  UserWarning)\n",
      "/home/dbutler/anaconda3/lib/python3.6/site-packages/sklearn/feature_selection/univariate_selection.py:113: UserWarning: Features [3] are constant.\n",
      "  UserWarning)\n",
      "/home/dbutler/anaconda3/lib/python3.6/site-packages/sklearn/feature_selection/univariate_selection.py:113: UserWarning: Features [3] are constant.\n",
      "  UserWarning)\n",
      "/home/dbutler/anaconda3/lib/python3.6/site-packages/sklearn/feature_selection/univariate_selection.py:113: UserWarning: Features [3] are constant.\n",
      "  UserWarning)\n",
      "/home/dbutler/anaconda3/lib/python3.6/site-packages/sklearn/feature_selection/univariate_selection.py:113: UserWarning: Features [3] are constant.\n",
      "  UserWarning)\n",
      "/home/dbutler/anaconda3/lib/python3.6/site-packages/sklearn/feature_selection/univariate_selection.py:113: UserWarning: Features [3] are constant.\n",
      "  UserWarning)\n",
      "/home/dbutler/anaconda3/lib/python3.6/site-packages/sklearn/feature_selection/univariate_selection.py:113: UserWarning: Features [3] are constant.\n",
      "  UserWarning)\n",
      "/home/dbutler/anaconda3/lib/python3.6/site-packages/sklearn/feature_selection/univariate_selection.py:113: UserWarning: Features [3] are constant.\n",
      "  UserWarning)\n",
      "/home/dbutler/anaconda3/lib/python3.6/site-packages/sklearn/feature_selection/univariate_selection.py:113: UserWarning: Features [3] are constant.\n",
      "  UserWarning)\n",
      "/home/dbutler/anaconda3/lib/python3.6/site-packages/sklearn/feature_selection/univariate_selection.py:113: UserWarning: Features [3] are constant.\n",
      "  UserWarning)\n",
      "/home/dbutler/anaconda3/lib/python3.6/site-packages/sklearn/feature_selection/univariate_selection.py:113: UserWarning: Features [3] are constant.\n",
      "  UserWarning)\n",
      "/home/dbutler/anaconda3/lib/python3.6/site-packages/sklearn/feature_selection/univariate_selection.py:113: UserWarning: Features [3] are constant.\n",
      "  UserWarning)\n",
      "/home/dbutler/anaconda3/lib/python3.6/site-packages/sklearn/feature_selection/univariate_selection.py:113: UserWarning: Features [3] are constant.\n",
      "  UserWarning)\n",
      "/home/dbutler/anaconda3/lib/python3.6/site-packages/sklearn/feature_selection/univariate_selection.py:113: UserWarning: Features [3] are constant.\n",
      "  UserWarning)\n",
      "/home/dbutler/anaconda3/lib/python3.6/site-packages/sklearn/feature_selection/univariate_selection.py:113: UserWarning: Features [3] are constant.\n",
      "  UserWarning)\n",
      "/home/dbutler/anaconda3/lib/python3.6/site-packages/sklearn/feature_selection/univariate_selection.py:113: UserWarning: Features [3] are constant.\n",
      "  UserWarning)\n",
      "/home/dbutler/anaconda3/lib/python3.6/site-packages/sklearn/feature_selection/univariate_selection.py:113: UserWarning: Features [3] are constant.\n",
      "  UserWarning)\n",
      "/home/dbutler/anaconda3/lib/python3.6/site-packages/sklearn/feature_selection/univariate_selection.py:113: UserWarning: Features [3] are constant.\n",
      "  UserWarning)\n",
      "/home/dbutler/anaconda3/lib/python3.6/site-packages/sklearn/feature_selection/univariate_selection.py:113: UserWarning: Features [3] are constant.\n",
      "  UserWarning)\n",
      "/home/dbutler/anaconda3/lib/python3.6/site-packages/sklearn/feature_selection/univariate_selection.py:113: UserWarning: Features [3] are constant.\n",
      "  UserWarning)\n",
      "/home/dbutler/anaconda3/lib/python3.6/site-packages/sklearn/feature_selection/univariate_selection.py:113: UserWarning: Features [3] are constant.\n",
      "  UserWarning)\n",
      "/home/dbutler/anaconda3/lib/python3.6/site-packages/sklearn/feature_selection/univariate_selection.py:113: UserWarning: Features [3] are constant.\n",
      "  UserWarning)\n",
      "/home/dbutler/anaconda3/lib/python3.6/site-packages/sklearn/feature_selection/univariate_selection.py:113: UserWarning: Features [3] are constant.\n",
      "  UserWarning)\n",
      "/home/dbutler/anaconda3/lib/python3.6/site-packages/sklearn/feature_selection/univariate_selection.py:113: UserWarning: Features [3] are constant.\n",
      "  UserWarning)\n",
      "/home/dbutler/anaconda3/lib/python3.6/site-packages/sklearn/feature_selection/univariate_selection.py:113: UserWarning: Features [3] are constant.\n",
      "  UserWarning)\n",
      "/home/dbutler/anaconda3/lib/python3.6/site-packages/sklearn/feature_selection/univariate_selection.py:113: UserWarning: Features [3] are constant.\n",
      "  UserWarning)\n",
      "/home/dbutler/anaconda3/lib/python3.6/site-packages/sklearn/feature_selection/univariate_selection.py:113: UserWarning: Features [3] are constant.\n",
      "  UserWarning)\n",
      "/home/dbutler/anaconda3/lib/python3.6/site-packages/sklearn/feature_selection/univariate_selection.py:113: UserWarning: Features [3] are constant.\n",
      "  UserWarning)\n",
      "/home/dbutler/anaconda3/lib/python3.6/site-packages/sklearn/feature_selection/univariate_selection.py:113: UserWarning: Features [3] are constant.\n",
      "  UserWarning)\n",
      "/home/dbutler/anaconda3/lib/python3.6/site-packages/sklearn/feature_selection/univariate_selection.py:113: UserWarning: Features [3] are constant.\n",
      "  UserWarning)\n",
      "/home/dbutler/anaconda3/lib/python3.6/site-packages/sklearn/feature_selection/univariate_selection.py:113: UserWarning: Features [3] are constant.\n",
      "  UserWarning)\n",
      "/home/dbutler/anaconda3/lib/python3.6/site-packages/sklearn/feature_selection/univariate_selection.py:113: UserWarning: Features [3] are constant.\n",
      "  UserWarning)\n",
      "/home/dbutler/anaconda3/lib/python3.6/site-packages/sklearn/feature_selection/univariate_selection.py:113: UserWarning: Features [3] are constant.\n",
      "  UserWarning)\n",
      "/home/dbutler/anaconda3/lib/python3.6/site-packages/sklearn/feature_selection/univariate_selection.py:113: UserWarning: Features [3] are constant.\n",
      "  UserWarning)\n",
      "/home/dbutler/anaconda3/lib/python3.6/site-packages/sklearn/feature_selection/univariate_selection.py:113: UserWarning: Features [3] are constant.\n",
      "  UserWarning)\n",
      "/home/dbutler/anaconda3/lib/python3.6/site-packages/sklearn/feature_selection/univariate_selection.py:113: UserWarning: Features [3] are constant.\n",
      "  UserWarning)\n",
      "/home/dbutler/anaconda3/lib/python3.6/site-packages/sklearn/feature_selection/univariate_selection.py:113: UserWarning: Features [3] are constant.\n",
      "  UserWarning)\n",
      "/home/dbutler/anaconda3/lib/python3.6/site-packages/sklearn/feature_selection/univariate_selection.py:113: UserWarning: Features [3] are constant.\n",
      "  UserWarning)\n",
      "/home/dbutler/anaconda3/lib/python3.6/site-packages/sklearn/feature_selection/univariate_selection.py:113: UserWarning: Features [3] are constant.\n",
      "  UserWarning)\n",
      "/home/dbutler/anaconda3/lib/python3.6/site-packages/sklearn/feature_selection/univariate_selection.py:113: UserWarning: Features [3] are constant.\n",
      "  UserWarning)\n",
      "/home/dbutler/anaconda3/lib/python3.6/site-packages/sklearn/feature_selection/univariate_selection.py:113: UserWarning: Features [3] are constant.\n",
      "  UserWarning)\n",
      "/home/dbutler/anaconda3/lib/python3.6/site-packages/sklearn/feature_selection/univariate_selection.py:113: UserWarning: Features [3] are constant.\n",
      "  UserWarning)\n",
      "/home/dbutler/anaconda3/lib/python3.6/site-packages/sklearn/feature_selection/univariate_selection.py:113: UserWarning: Features [3] are constant.\n",
      "  UserWarning)\n",
      "/home/dbutler/anaconda3/lib/python3.6/site-packages/sklearn/feature_selection/univariate_selection.py:113: UserWarning: Features [3] are constant.\n",
      "  UserWarning)\n",
      "/home/dbutler/anaconda3/lib/python3.6/site-packages/sklearn/feature_selection/univariate_selection.py:113: UserWarning: Features [3] are constant.\n",
      "  UserWarning)\n",
      "/home/dbutler/anaconda3/lib/python3.6/site-packages/sklearn/feature_selection/univariate_selection.py:113: UserWarning: Features [3] are constant.\n",
      "  UserWarning)\n"
     ]
    },
    {
     "name": "stderr",
     "output_type": "stream",
     "text": [
      "/home/dbutler/anaconda3/lib/python3.6/site-packages/sklearn/feature_selection/univariate_selection.py:113: UserWarning: Features [3] are constant.\n",
      "  UserWarning)\n",
      "/home/dbutler/anaconda3/lib/python3.6/site-packages/sklearn/feature_selection/univariate_selection.py:113: UserWarning: Features [3] are constant.\n",
      "  UserWarning)\n",
      "/home/dbutler/anaconda3/lib/python3.6/site-packages/sklearn/feature_selection/univariate_selection.py:113: UserWarning: Features [3] are constant.\n",
      "  UserWarning)\n",
      "/home/dbutler/anaconda3/lib/python3.6/site-packages/sklearn/feature_selection/univariate_selection.py:113: UserWarning: Features [3] are constant.\n",
      "  UserWarning)\n",
      "/home/dbutler/anaconda3/lib/python3.6/site-packages/sklearn/feature_selection/univariate_selection.py:113: UserWarning: Features [3] are constant.\n",
      "  UserWarning)\n",
      "/home/dbutler/anaconda3/lib/python3.6/site-packages/sklearn/feature_selection/univariate_selection.py:113: UserWarning: Features [3] are constant.\n",
      "  UserWarning)\n",
      "/home/dbutler/anaconda3/lib/python3.6/site-packages/sklearn/feature_selection/univariate_selection.py:113: UserWarning: Features [3] are constant.\n",
      "  UserWarning)\n",
      "/home/dbutler/anaconda3/lib/python3.6/site-packages/sklearn/feature_selection/univariate_selection.py:113: UserWarning: Features [3] are constant.\n",
      "  UserWarning)\n",
      "/home/dbutler/anaconda3/lib/python3.6/site-packages/sklearn/feature_selection/univariate_selection.py:113: UserWarning: Features [3] are constant.\n",
      "  UserWarning)\n",
      "/home/dbutler/anaconda3/lib/python3.6/site-packages/sklearn/feature_selection/univariate_selection.py:113: UserWarning: Features [3] are constant.\n",
      "  UserWarning)\n"
     ]
    },
    {
     "name": "stdout",
     "output_type": "stream",
     "text": [
      "Accuracy= 0.899465460526\n",
      "[[4262   62]\n",
      " [ 427  113]]\n"
     ]
    }
   ],
   "source": [
    "from sklearn.pipeline import Pipeline\n",
    "from sklearn.grid_search import GridSearchCV\n",
    "from sklearn.linear_model import LogisticRegression\n",
    "from sklearn import cross_validation\n",
    "from sklearn.cross_validation import train_test_split\n",
    "from sklearn.metrics import confusion_matrix\n",
    "from sklearn.metrics import accuracy_score\n",
    "\n",
    "x_train, x_test, y_train, y_test = cross_validation.train_test_split(x_data, y_data, test_size=0.2, random_state=0)\n",
    "\n",
    "kbest = SelectKBest(f_classif)\n",
    "pipeline = Pipeline([('kbest', kbest), ('lr', LogisticRegression())])\n",
    "grid_search = GridSearchCV(pipeline, {'kbest__k': [1,2,3,4], 'lr__C': np.logspace(-10, 10, 5)})\n",
    "grid_search.fit(x_train, y_train.values.ravel())\n",
    "\n",
    "#generate testset predictions\n",
    "predictions = grid_search.predict(x_test)\n",
    "\n",
    "#output the accuracy\n",
    "print('Accuracy = ' + str(accuracy_score(y_test, predictions, normalize=True)))\n",
    "confusionMatrix = confusion_matrix(y_test, predictions)\n",
    "print(confusionMatrix)\n"
   ]
  },
  {
   "cell_type": "markdown",
   "metadata": {},
   "source": [
    "# KNN - Cross validation Multiple Values of K"
   ]
  },
  {
   "cell_type": "code",
   "execution_count": 33,
   "metadata": {
    "collapsed": true
   },
   "outputs": [],
   "source": [
    "from sklearn import model_selection"
   ]
  },
  {
   "cell_type": "code",
   "execution_count": 44,
   "metadata": {},
   "outputs": [],
   "source": [
    "#create odd list of k for KNN\n",
    "alist = list(range(1, 50))\n",
    "#Subsetting only odd\n",
    "neighbors = list(filter(lambda x: x % 2 != 0, alist))\n",
    "#hold the cross val scores\n",
    "cv_scores = []\n",
    "\n",
    "for k in neighbors:\n",
    "    knn = KNeighborsClassifier(n_neighbors=k)\n",
    "    scores = model_selection.cross_val_score(knn, x_train, y_train.values.ravel(), cv=10, scoring='accuracy')\n",
    "    cv_scores.append(scores.mean())"
   ]
  },
  {
   "cell_type": "code",
   "execution_count": 45,
   "metadata": {},
   "outputs": [
    {
     "name": "stdout",
     "output_type": "stream",
     "text": [
      "The optimal number of neighbors is 41\n"
     ]
    },
    {
     "data": {
      "image/png": "[encoded data removed]",
      "text/plain": [
       "<matplotlib.figure.Figure at 0x7efbbff612b0>"
      ]
     },
     "metadata": {},
     "output_type": "display_data"
    }
   ],
   "source": [
    "import matplotlib.pyplot as plt\n",
    "%matplotlib inline\n",
    "\n",
    "MSE = [1 - x for x in cv_scores]\n",
    "\n",
    "optimal_k = neighbors[MSE.index(min(MSE))]\n",
    "print(\"The optimal number of neighbors is %d\" % optimal_k)\n",
    "\n",
    "# plot misclassification error vs k\n",
    "plt.plot(neighbors, MSE)\n",
    "plt.xlabel('Number of Neighbors K')\n",
    "plt.ylabel('Misclassification Error')\n",
    "plt.show()"
   ]
  },
  {
   "cell_type": "markdown",
   "metadata": {},
   "source": [
    "# Getting accuracy using optimal number"
   ]
  },
  {
   "cell_type": "code",
   "execution_count": 47,
   "metadata": {},
   "outputs": [
    {
     "name": "stdout",
     "output_type": "stream",
     "text": [
      "0.886307565789\n"
     ]
    }
   ],
   "source": [
    "knn = KNeighborsClassifier(n_neighbors=10)\n",
    "knn.fit(x_train, y_train.values.ravel())\n",
    "pred = knn.predict(x_test)\n",
    "print(accuracy_score(y_test, pred))"
   ]
  },
  {
   "cell_type": "code",
   "execution_count": null,
   "metadata": {
    "collapsed": true
   },
   "outputs": [],
   "source": []
  }
 ],
 "metadata": {
  "kernelspec": {
   "display_name": "Python 3",
   "language": "python",
   "name": "python3"
  },
  "language_info": {
   "codemirror_mode": {
    "name": "ipython",
    "version": 3
   },
   "file_extension": ".py",
   "mimetype": "text/x-python",
   "name": "python",
   "nbconvert_exporter": "python",
   "pygments_lexer": "ipython3",
   "version": "3.6.1"
  }
 },
 "nbformat": 4,
 "nbformat_minor": 2
}
