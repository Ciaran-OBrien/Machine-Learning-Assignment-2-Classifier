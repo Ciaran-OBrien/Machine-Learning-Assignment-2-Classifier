{
 "cells": [
  {
   "cell_type": "markdown",
   "metadata": {},
   "source": [
    "# Part 1 - Clean and preprocess the data "
   ]
  },
  {
   "cell_type": "markdown",
   "metadata": {},
   "source": [
    "## Import required libraries"
   ]
  },
  {
   "cell_type": "code",
   "execution_count": 28,
   "metadata": {},
   "outputs": [],
   "source": [
    "#reading/manipulating the data\n",
    "import pandas as pd\n",
    "import numpy as np\n",
    "import pickle\n",
    "\n",
    "#plotting the data\n",
    "import matplotlib.pyplot as plt\n",
    "%matplotlib inline\n",
    "\n",
    "#machine learning libraries  - KNN etc. \n",
    "from sklearn import cross_validation\n",
    "from sklearn.cross_validation import train_test_split\n",
    "from sklearn.metrics import confusion_matrix\n",
    "from sklearn.metrics import accuracy_score\n",
    "from sklearn import model_selection\n",
    "from sklearn.neighbors import KNeighborsClassifier\n",
    "from sklearn.model_selection import StratifiedKFold\n",
    "from sklearn import preprocessing\n",
    "from sklearn import tree\n",
    "from sklearn.metrics import roc_curve, auc"
   ]
  },
  {
   "cell_type": "markdown",
   "metadata": {},
   "source": [
    "## Get the column names"
   ]
  },
  {
   "cell_type": "code",
   "execution_count": 29,
   "metadata": {},
   "outputs": [],
   "source": [
    "col_headers = []\n",
    "\n",
    "with open('data/dataDescription.txt', 'r') as dd:\n",
    "    for line in dd:\n",
    "        if line[0].isdigit():\n",
    "            items = line.split(' ')\n",
    "            col_headers.append(items[2].strip().replace(':', ''))\n",
    "col_headers = []\n",
    "\n",
    "with open('data/dataDescription.txt', 'r') as dd:\n",
    "    for line in dd:\n",
    "        if line[0].isdigit():\n",
    "            items = line.split(' ')\n",
    "            col_headers.append(items[2].strip().replace(':', ''))"
   ]
  },
  {
   "cell_type": "markdown",
   "metadata": {},
   "source": [
    "## read in the training set"
   ]
  },
  {
   "cell_type": "code",
   "execution_count": 30,
   "metadata": {
    "collapsed": true
   },
   "outputs": [],
   "source": [
    "df = pd.read_csv('data/trainingSet.txt', header=None)\n",
    "#assigns column headers to the data\n",
    "df.columns = col_headers"
   ]
  },
  {
   "cell_type": "markdown",
   "metadata": {},
   "source": [
    "## Convert categorical features to numerical format"
   ]
  },
  {
   "cell_type": "code",
   "execution_count": 31,
   "metadata": {
    "collapsed": true
   },
   "outputs": [],
   "source": [
    "#categorical columns\n",
    "cat_features = ['job', 'marital', 'education', 'default', 'housing', 'loan', 'contact', 'month', 'poutcome', 'y']\n",
    "\n",
    "#pass the data to the get dummies function along with the columns needed to convert \n",
    "df_with_dummies = pd.get_dummies(df, columns = cat_features )\n",
    "\n",
    "#convert it to CSV format\n",
    "df.to_csv('./data/trainingSetLabelled.csv', index=False)"
   ]
  },
  {
   "cell_type": "markdown",
   "metadata": {},
   "source": [
    "## Read in the labelled training data"
   ]
  },
  {
   "cell_type": "code",
   "execution_count": 32,
   "metadata": {
    "collapsed": true
   },
   "outputs": [],
   "source": [
    "campaign_data = pd.read_csv('./data/trainingSetLabelled.csv') "
   ]
  },
  {
   "cell_type": "code",
   "execution_count": 33,
   "metadata": {},
   "outputs": [],
   "source": [
    "#get the target features and save them\n",
    "target_label = campaign_data['y']\n",
    "target_label.to_csv('./data/target_features.csv', index=False)"
   ]
  },
  {
   "cell_type": "markdown",
   "metadata": {},
   "source": [
    "## Extract the numeric descriptive features"
   ]
  },
  {
   "cell_type": "code",
   "execution_count": 34,
   "metadata": {
    "collapsed": true
   },
   "outputs": [],
   "source": [
    "numeric_features = ['age', 'balance', 'day', 'duration', 'campaign', 'pdays', 'previous']\n",
    "num_df = campaign_data[numeric_features]"
   ]
  },
  {
   "cell_type": "markdown",
   "metadata": {},
   "source": [
    "## Extract the Categorical Features"
   ]
  },
  {
   "cell_type": "code",
   "execution_count": 35,
   "metadata": {
    "collapsed": true
   },
   "outputs": [],
   "source": [
    "cat_df = campaign_data.drop(numeric_features + ['id','y'], axis=1)"
   ]
  },
  {
   "cell_type": "code",
   "execution_count": 36,
   "metadata": {
    "collapsed": true
   },
   "outputs": [],
   "source": [
    "# Clean up empty values\n",
    "cat_df.replace('?', 'NA')\n",
    "cat_df.fillna('NA', inplace=True)"
   ]
  },
  {
   "cell_type": "code",
   "execution_count": 37,
   "metadata": {
    "collapsed": true
   },
   "outputs": [],
   "source": [
    "## Convert to numerical using one hot encoding\n",
    "#one hot encoding using get_dummies()\n",
    "vec_cat_df = pd.get_dummies(cat_df)"
   ]
  },
  {
   "cell_type": "markdown",
   "metadata": {},
   "source": [
    "## Merge categorical and numerical features"
   ]
  },
  {
   "cell_type": "code",
   "execution_count": 38,
   "metadata": {
    "collapsed": true
   },
   "outputs": [],
   "source": [
    "train_df = np.hstack((num_df.as_matrix(), vec_cat_df))"
   ]
  },
  {
   "cell_type": "code",
   "execution_count": 39,
   "metadata": {
    "collapsed": true
   },
   "outputs": [],
   "source": [
    "#save the data\n",
    "np.save('./data/cleaned_data_np', train_df)"
   ]
  },
  {
   "cell_type": "markdown",
   "metadata": {},
   "source": [
    "# Part 2 - Train and evaluate the model (stratified k-fold)"
   ]
  },
  {
   "cell_type": "code",
   "execution_count": 40,
   "metadata": {},
   "outputs": [
    {
     "data": {
      "text/plain": [
       "10"
      ]
     },
     "execution_count": 40,
     "metadata": {},
     "output_type": "execute_result"
    }
   ],
   "source": [
    "x_data = np.load('./data/cleaned_data_np.npy')\n",
    "y_data = pd.read_csv('./data/target_features.csv', header=None)\n",
    "\n",
    "#init skf\n",
    "skf = StratifiedKFold(n_splits=10, shuffle=True, random_state=42)\n",
    "skf.get_n_splits(x_data, y_data)"
   ]
  },
  {
   "cell_type": "code",
   "execution_count": 41,
   "metadata": {},
   "outputs": [
    {
     "name": "stderr",
     "output_type": "stream",
     "text": [
      "/home/dbutler/anaconda3/lib/python3.6/site-packages/sklearn/preprocessing/label.py:112: DataConversionWarning: A column-vector y was passed when a 1d array was expected. Please change the shape of y to (n_samples, ), for example using ravel().\n",
      "  y = column_or_1d(y, warn=True)\n",
      "/home/dbutler/anaconda3/lib/python3.6/site-packages/sklearn/preprocessing/label.py:147: DataConversionWarning: A column-vector y was passed when a 1d array was expected. Please change the shape of y to (n_samples, ), for example using ravel().\n",
      "  y = column_or_1d(y, warn=True)\n"
     ]
    }
   ],
   "source": [
    "#convert target to binary format\n",
    "le = preprocessing.LabelEncoder()\n",
    "le.fit(y_data)\n",
    "y_data = le.transform(y_data)\n",
    "\n",
    "base_fpr = np.linspace(0, 1, 101)"
   ]
  },
  {
   "cell_type": "markdown",
   "metadata": {},
   "source": [
    "## A) Decision Tree"
   ]
  },
  {
   "cell_type": "code",
   "execution_count": 42,
   "metadata": {},
   "outputs": [
    {
     "name": "stdout",
     "output_type": "stream",
     "text": [
      "Accuracy= 0.8277846280312372\n",
      "Count{0: 2123, 1: 310}\n",
      "The Area under the curve0.6018497822335442\n",
      "Accuracy= 0.8224414303329223\n",
      "Count{0: 2092, 1: 341}\n",
      "The Area under the curve0.6126345632344481\n",
      "Accuracy= 0.8401150842581175\n",
      "Count{0: 2125, 1: 308}\n",
      "The Area under the curve0.6303056947982578\n",
      "Accuracy= 0.8404605263157895\n",
      "Count{0: 2144, 1: 288}\n",
      "The Area under the curve0.6155335642421245\n",
      "Accuracy= 0.8400493421052632\n",
      "Count{0: 2155, 1: 277}\n",
      "The Area under the curve0.6060580570674583\n",
      "Accuracy= 0.8391608391608392\n",
      "Count{0: 2122, 1: 309}\n",
      "The Area under the curve0.6286776960420317\n",
      "Accuracy= 0.8354586589880707\n",
      "Count{0: 2107, 1: 324}\n",
      "The Area under the curve0.6312048487008637\n",
      "Accuracy= 0.8153023447141095\n",
      "Count{0: 2110, 1: 321}\n",
      "The Area under the curve0.5797542317224901\n",
      "Accuracy= 0.8194158782394076\n",
      "Count{0: 2114, 1: 317}\n",
      "The Area under the curve0.5867020451537743\n",
      "Accuracy= 0.8301110654051831\n",
      "Count{0: 2126, 1: 305}\n",
      "The Area under the curve0.6035340534439572\n"
     ]
    },
    {
     "data": {
      "image/png": "[encoded data removed]",
      "text/plain": [
       "<matplotlib.figure.Figure at 0x7f5da7fb2240>"
      ]
     },
     "metadata": {},
     "output_type": "display_data"
    }
   ],
   "source": [
    "#hold data for ROC\n",
    "tprs = []\n",
    "\n",
    "for train_index, test_index in skf.split(x_data, y_data):\n",
    "    \n",
    "    #Decsion Tree - Better \n",
    "    #create dec tree instance\n",
    "    decTreeModel = tree.DecisionTreeClassifier()\n",
    "    #fit the model\n",
    "    decTreeModel.fit(x_data[train_index], y_data[train_index])\n",
    "    #generate testset predictions\n",
    "    predictions = decTreeModel.predict(x_data[test_index])\n",
    "    \n",
    "    #output the accuracy\n",
    "    print('Accuracy= ' + str(accuracy_score(y_data[test_index], predictions, normalize=True)))\n",
    "    \n",
    "    #get target counts\n",
    "    unique, counts = np.unique(predictions, return_counts = True)\n",
    "    res = dict(zip(unique, counts))\n",
    "    print(\"Count\" + str(res))\n",
    "    \n",
    "    #calculate ROC\n",
    "    fpr, tpr, _ = roc_curve(y_data[test_index], predictions[:])\n",
    "    print(\"The Area under the curve\" + str(auc(fpr, tpr)))\n",
    "    plt.plot(fpr, tpr, 'b', alpha=0.15)\n",
    "    tpr = np.interp(base_fpr, fpr, tpr)\n",
    "    tpr[0] = 0.0\n",
    "    tprs.append(tpr)\n",
    "\n",
    "tprs = np.array(tprs)\n",
    "mean_tprs = tprs.mean(axis=0)\n",
    "std = tprs.std(axis=0)\n",
    "\n",
    "tprs_upper = np.minimum(mean_tprs + std, 1)\n",
    "tprs_lower = mean_tprs - std\n",
    "\n",
    "\n",
    "plt.plot(base_fpr, mean_tprs, 'b')\n",
    "plt.fill_between(base_fpr, tprs_lower, tprs_upper, color='grey', alpha=0.3)\n",
    "\n",
    "plt.plot([0, 1], [0, 1],'r--')\n",
    "plt.xlim([-0.01, 1.01])\n",
    "plt.ylim([-0.01, 1.01])\n",
    "plt.ylabel('True Positive Rate')\n",
    "plt.xlabel('False Positive Rate')\n",
    "plt.axes().set_aspect('equal', 'datalim')\n",
    "plt.show()"
   ]
  },
  {
   "cell_type": "markdown",
   "metadata": {},
   "source": [
    "## B) KNN"
   ]
  },
  {
   "cell_type": "code",
   "execution_count": 43,
   "metadata": {},
   "outputs": [
    {
     "name": "stdout",
     "output_type": "stream",
     "text": [
      "Accuracy= 0.8795725441841348\n",
      "Count{0: 2399, 1: 34}\n",
      "The Area under the curve0.5160851343577945\n",
      "Accuracy= 0.8836826962597616\n",
      "Count{0: 2405, 1: 28}\n",
      "The Area under the curve0.5214791683786669\n",
      "Accuracy= 0.885737772297575\n",
      "Count{0: 2416, 1: 17}\n",
      "The Area under the curve0.5180392801380557\n",
      "Accuracy= 0.8844572368421053\n",
      "Count{0: 2399, 1: 33}\n",
      "The Area under the curve0.5264209137390731\n",
      "Accuracy= 0.884046052631579\n",
      "Count{0: 2408, 1: 24}\n",
      "The Area under the curve0.5184858980702622\n",
      "Accuracy= 0.8819415878239407\n",
      "Count{0: 2412, 1: 19}\n",
      "The Area under the curve0.5096193512403923\n",
      "Accuracy= 0.8852324146441793\n",
      "Count{0: 2414, 1: 17}\n",
      "The Area under the curve0.5161018319587867\n",
      "Accuracy= 0.8807075277663513\n",
      "Count{0: 2401, 1: 30}\n",
      "The Area under the curve0.5150828853268384\n",
      "Accuracy= 0.8823529411764706\n",
      "Count{0: 2407, 1: 24}\n",
      "The Area under the curve0.5144731674636727\n",
      "Accuracy= 0.8798848210612916\n",
      "Count{0: 2401, 1: 30}\n",
      "The Area under the curve0.5130771693250035\n"
     ]
    },
    {
     "data": {
      "image/png": "[encoded data removed]",
      "text/plain": [
       "<matplotlib.figure.Figure at 0x7f5da832cbe0>"
      ]
     },
     "metadata": {},
     "output_type": "display_data"
    }
   ],
   "source": [
    "from sklearn.naive_bayes import GaussianNB\n",
    "\n",
    "#init skf\n",
    "skf = StratifiedKFold(n_splits=10, shuffle=True, random_state=42)\n",
    "skf.get_n_splits(x_data, y_data)\n",
    "\n",
    "#hold data for ROC\n",
    "tprs = []\n",
    "\n",
    "for train_index, test_index in skf.split(x_data, y_data):\n",
    "    \n",
    "    #KNN\n",
    "    knn = KNeighborsClassifier(n_neighbors=10)\n",
    "    knn.fit(x_data[train_index], y_data[train_index])\n",
    "    predictions = knn.predict(x_data[test_index])\n",
    "    #print(accuracy_score(y_data[test_index], results))\n",
    "    #output the accuracy\n",
    "    print('Accuracy= ' + str(accuracy_score(y_data[test_index], predictions, normalize=True)))\n",
    "    \n",
    "    #get target counts\n",
    "    unique, counts = np.unique(predictions, return_counts = True)\n",
    "    res = dict(zip(unique, counts))\n",
    "    print(\"Count\" + str(res))\n",
    "    \n",
    "    #calculate ROC\n",
    "    fpr, tpr, _ = roc_curve(y_data[test_index], predictions[:])\n",
    "    print(\"The Area under the curve\" + str(auc(fpr, tpr)))\n",
    "    plt.plot(fpr, tpr, 'b', alpha=0.15)\n",
    "    tpr = np.interp(base_fpr, fpr, tpr)\n",
    "    tpr[0] = 0.0\n",
    "    tprs.append(tpr)\n",
    "\n",
    "tprs = np.array(tprs)\n",
    "mean_tprs = tprs.mean(axis=0)\n",
    "std = tprs.std(axis=0)\n",
    "\n",
    "tprs_upper = np.minimum(mean_tprs + std, 1)\n",
    "tprs_lower = mean_tprs - std\n",
    "\n",
    "\n",
    "plt.plot(base_fpr, mean_tprs, 'b')\n",
    "plt.fill_between(base_fpr, tprs_lower, tprs_upper, color='grey', alpha=0.3)\n",
    "\n",
    "plt.plot([0, 1], [0, 1],'r--')\n",
    "plt.xlim([-0.01, 1.01])\n",
    "plt.ylim([-0.01, 1.01])\n",
    "plt.ylabel('True Positive Rate')\n",
    "plt.xlabel('False Positive Rate')\n",
    "plt.axes().set_aspect('equal', 'datalim')\n",
    "plt.show()"
   ]
  },
  {
   "cell_type": "markdown",
   "metadata": {},
   "source": [
    "# Fit data to Decision Tree\n",
    "* The AUC for the decision tree was much higher than that of the knn model\n",
    "* This indicated that the knn model was overfitting the data due to the large imbalance in the set"
   ]
  },
  {
   "cell_type": "markdown",
   "metadata": {},
   "source": [
    "## Fit the model the the whole training data set"
   ]
  },
  {
   "cell_type": "code",
   "execution_count": 44,
   "metadata": {},
   "outputs": [],
   "source": [
    "#create dec tree instance\n",
    "decTreeModel = tree.DecisionTreeClassifier()\n",
    "#fit the model\n",
    "decTreeModel.fit(x_data, y_data)\n",
    "#save the model\n",
    "pickle.dump(decTreeModel, open('DTModel.sav', 'wb'))"
   ]
  },
  {
   "cell_type": "markdown",
   "metadata": {},
   "source": [
    "# Part 3 - Classify the query data"
   ]
  },
  {
   "cell_type": "code",
   "execution_count": 45,
   "metadata": {},
   "outputs": [],
   "source": [
    "#get the queries\n",
    "df = pd.read_csv('data/queries.txt', header=None)\n",
    "#assigns column headers to the data\n",
    "df.columns = col_headers\n",
    "df.to_csv('./data/queriesLabelled.csv', index=False)"
   ]
  },
  {
   "cell_type": "code",
   "execution_count": 46,
   "metadata": {},
   "outputs": [],
   "source": [
    "queries_df = pd.read_csv('./data/queriesLabelled.csv') \n",
    "numeric_features = ['age', 'balance', 'day', 'duration', 'campaign', 'pdays', 'previous']\n",
    "num_df = queries_df[numeric_features]"
   ]
  },
  {
   "cell_type": "code",
   "execution_count": 47,
   "metadata": {},
   "outputs": [],
   "source": [
    "#keep the ID seperate\n",
    "target_id = queries_df['id']"
   ]
  },
  {
   "cell_type": "code",
   "execution_count": 48,
   "metadata": {},
   "outputs": [],
   "source": [
    "cat_df = queries_df.drop(numeric_features + ['id','y'], axis=1)"
   ]
  },
  {
   "cell_type": "code",
   "execution_count": 49,
   "metadata": {
    "collapsed": true
   },
   "outputs": [],
   "source": [
    "cat_df.replace('?', 'NA')\n",
    "cat_df.fillna('NA', inplace=True)"
   ]
  },
  {
   "cell_type": "markdown",
   "metadata": {},
   "source": [
    "## Perform one hot encoding on data"
   ]
  },
  {
   "cell_type": "code",
   "execution_count": 50,
   "metadata": {},
   "outputs": [],
   "source": [
    "#one hot encoding using get_dummies()\n",
    "vec_cat_df = pd.get_dummies(cat_df)"
   ]
  },
  {
   "cell_type": "code",
   "execution_count": 51,
   "metadata": {},
   "outputs": [],
   "source": [
    "#merge the cat & num columns\n",
    "train_df = np.hstack((num_df.as_matrix(), vec_cat_df))"
   ]
  },
  {
   "cell_type": "code",
   "execution_count": 52,
   "metadata": {
    "collapsed": true
   },
   "outputs": [],
   "source": [
    "#load model and predict outcome\n",
    "dt = pickle.load(open('DTModel.sav', 'rb'))\n",
    "#generate testset predictions\n",
    "predictions = dt.predict(train_df)"
   ]
  },
  {
   "cell_type": "code",
   "execution_count": 53,
   "metadata": {},
   "outputs": [],
   "source": [
    "target_id.to_csv('./data/results.txt', index=False)"
   ]
  },
  {
   "cell_type": "code",
   "execution_count": 54,
   "metadata": {},
   "outputs": [],
   "source": [
    "#write to file\n",
    "i = 0\n",
    "with open('./data/predictions.txt', 'a') as pred_file:\n",
    "    with open('./data/results.txt', 'r+') as res_file:\n",
    "        for line in res_file:\n",
    "            if predictions[i] == 0:\n",
    "                pred_file.write(line.strip() + ',\"TypeA\"\\n')\n",
    "            else:\n",
    "                pred_file.write(line.strip() + ',\"TypeB\"\\n')\n",
    "            i += 1"
   ]
  }
 ],
 "metadata": {
  "kernelspec": {
   "display_name": "Python 3",
   "language": "python",
   "name": "python3"
  },
  "language_info": {
   "codemirror_mode": {
    "name": "ipython",
    "version": 3
   },
   "file_extension": ".py",
   "mimetype": "text/x-python",
   "name": "python",
   "nbconvert_exporter": "python",
   "pygments_lexer": "ipython3",
   "version": "3.6.1"
  }
 },
 "nbformat": 4,
 "nbformat_minor": 2
}
